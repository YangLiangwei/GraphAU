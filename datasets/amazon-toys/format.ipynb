{
 "cells": [
  {
   "cell_type": "code",
   "execution_count": 1,
   "metadata": {},
   "outputs": [],
   "source": [
    "import pandas as pd"
   ]
  },
  {
   "cell_type": "code",
   "execution_count": 2,
   "metadata": {},
   "outputs": [],
   "source": [
    "data = pd.read_csv('ratings_Toys_and_Games.csv', names=['user', 'item', 'rating','timestamp'])"
   ]
  },
  {
   "cell_type": "code",
   "execution_count": 3,
   "metadata": {},
   "outputs": [],
   "source": [
    "\n",
    "map_user = {}\n",
    "count = 0\n",
    "for i in data['user'].unique():\n",
    "    map_user[i] = count\n",
    "    count += 1\n",
    "\n",
    "map_item = {}\n",
    "count = 0\n",
    "for i in data['item'].unique():\n",
    "    map_item[i] = count\n",
    "    count += 1"
   ]
  },
  {
   "cell_type": "code",
   "execution_count": 4,
   "metadata": {},
   "outputs": [],
   "source": [
    "with open('toys&games.txt', 'w') as f:\n",
    "    for index,row in data.iterrows():\n",
    "        f.write(str(map_user[row['user']]) + ' ' + str(map_item[row['item']]) + ' ' + str(int(float(row['rating']))) + ' ' + str(row['timestamp']) + '\\n')\n",
    "    f.close()"
   ]
  },
  {
   "cell_type": "code",
   "execution_count": null,
   "metadata": {},
   "outputs": [],
   "source": []
  }
 ],
 "metadata": {
  "kernelspec": {
   "display_name": "Python 3.8.12 ('torch')",
   "language": "python",
   "name": "python3"
  },
  "language_info": {
   "codemirror_mode": {
    "name": "ipython",
    "version": 3
   },
   "file_extension": ".py",
   "mimetype": "text/x-python",
   "name": "python",
   "nbconvert_exporter": "python",
   "pygments_lexer": "ipython3",
   "version": "3.8.12"
  },
  "orig_nbformat": 4,
  "vscode": {
   "interpreter": {
    "hash": "a646f889987aeb6fa979ec1c7d0ee0467467b52c104bc138ed7601e376098c02"
   }
  }
 },
 "nbformat": 4,
 "nbformat_minor": 2
}
